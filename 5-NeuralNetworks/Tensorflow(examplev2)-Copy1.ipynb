{
 "cells": [
  {
   "cell_type": "code",
   "execution_count": 1,
   "id": "5893f6fd",
   "metadata": {},
   "outputs": [],
   "source": [
    "import tensorflow as tf"
   ]
  },
  {
   "cell_type": "code",
   "execution_count": 2,
   "id": "b86ba7e2",
   "metadata": {},
   "outputs": [],
   "source": [
    "mnist = tf.keras.datasets.mnist\n",
    "\n",
    "(x_train, y_train), (x_test, y_test) = mnist.load_data()\n",
    "x_train, x_test = x_train / 255.0, x_test / 255.0"
   ]
  },
  {
   "cell_type": "code",
   "execution_count": null,
   "id": "aa13f7b7",
   "metadata": {},
   "outputs": [],
   "source": [
    "def neural_network_model(data):\n",
    "    \n",
    "    initializer = tf.random_normal_initializer()\n",
    "    \n",
    "    # input_data * weight + biases\n",
    "    #first hidden layer\n",
    "    hidden_1_layer = {'weights':  tf.Variable(tf.random_normal(shape=[784, n_nodes_hl1], dtype=tf.float32)),\n",
    "                         'biases': tf.Variable(tf.random_normal(shape=[n_nodes_hl1], dtype=tf.float32))}\n",
    "    \n",
    "    #second hidden layer\n",
    "    hidden_2_layer = {'weights':  tf.Variable(tf.random_normal(shape=[n_nodes_hl1, n_nodes_hl2], dtype=tf.float32)),\n",
    "                         'biases': tf.Variable(tf.random_normal(shape=[n_nodes_hl2], dtype=tf.float32))}\n",
    "        \n",
    "    #third hidden layer\n",
    "    hidden_3_layer = {'weights':  tf.Variable(tf.random_normal(shape=[n_nodes_hl2, n_nodes_hl3], dtype=tf.float32)),\n",
    "                         'biases': tf.Variable(tf.random_normal(shape=[n_nodes_hl3], dtype=tf.float32))}\n",
    "    \n",
    "    #output hidden layer\n",
    "    output_layer = {'weights':  tf.Variable(tf.random_normal(shape=[n_nodes_hl3, n_classes])),\n",
    "                         'biases': tf.Variable(tf.random_normal(shape=[n_classes]))}\n",
    "    \n",
    "    \n",
    "    \n",
    "    #model input_data * weight + biases\n",
    "    l1 = tf.add(tf.matmul(data, hidden_1_layer['weights']), hidden_1_layer['biases'])\n",
    "    l1 = tf.nn.relu(l1)\n",
    "    \n",
    "    l2 = tf.add(tf.matmul(l1, hidden_2_layer['weights']), hidden_2_layer['biases'])\n",
    "    l2 = tf.nn.relu(l2)\n",
    "    \n",
    "    l3 = tf.add(tf.matmul(l2, hidden_3_layer['weights']), hidden_3_layer['biases'])\n",
    "    l3 = tf.nn.relu(l3)\n",
    "    \n",
    "    output = tf.matmul(l3, output_layer['weights']) +  output_layer['biases']\n",
    "    \n",
    "    return output"
   ]
  },
  {
   "cell_type": "code",
   "execution_count": null,
   "id": "fe4ba465",
   "metadata": {},
   "outputs": [],
   "source": [
    "def train_neural_network(x):\n",
    "    prediction = neural_network_model(x)\n",
    "    #tf.nn.softmax_cross_entropy_with_logits_v2(logits=Z3, labels=Y)\n",
    "    cost = tf.reduce_mean( tf.nn.softmax_cross_entropy_with_logits_v2(prediction, y))\n",
    "    \n",
    "    optimizer = tf.train.AdamOptimizer().minimize(cost)\n",
    "    \n",
    "    #cycles feed forward + back prop\n",
    "    hm_epochs = 10\n",
    "    \n",
    "    with tf.Session() as sess:\n",
    "        sess.run(tf.initialize_all_variables())\n",
    "        \n",
    "        # make an iterator\n",
    "        train_iterator = tf.data.make_initializable_iterator(mnist_train)\n",
    "        next_element = train_iterator.get_next()\n",
    "        \n",
    "        \n",
    "        for epoch in range(hm_epochs):\n",
    "            opoch_loss = 0\n",
    "            \n",
    "            sess.run(train_iterator.initializer)\n",
    "            epoch_x, epoch_y = sess.run(next_element)\n",
    "            \n",
    "            for _ in range(int(train_info.splits[\"train\"].num_examples/batch_size)):\n",
    "                #sess.run(optimizer, feed_dict={x: batch_train_x, y: batch_train_y})\n",
    "                epoch_x, epoch_y = sess.run(x_train.train.next_batch(batch_size))\n",
    "                #epoch_x, epoch_y = mnist_train.batch(batch_size)\n",
    "                #epoch_x, epoch_y = next_batch(batch_size, mnist_train, labels)\n",
    "                _, c = sess.run([optimizer, cost], feed_dict = {x : epoch_x, y : epoch_y})\n",
    "                epoch_loss += c \n",
    "                \n",
    "            print(\"Epoch\", epoch, 'completed out of', hm_epochs, 'loss:', epoch_loss)\n",
    "        \n",
    "        correct = tf.equal(tf.argmax(prediction,1), tf.argmax(y,1))\n",
    "        \n",
    "        accuracy = tf.reduce_mean(tf.cast(correct, 'float'))\n",
    "        print('accuracy:', accuracy.eval({x:mnist.images, y:mnist.test.labels}))\n",
    "        "
   ]
  },
  {
   "cell_type": "code",
   "execution_count": 3,
   "id": "f986772d",
   "metadata": {},
   "outputs": [],
   "source": [
    "model = tf.keras.models.Sequential([\n",
    "  tf.keras.layers.Flatten(input_shape=(28, 28)),\n",
    "  tf.keras.layers.Dense(128, activation='relu'),\n",
    "  tf.keras.layers.Dropout(0.2),\n",
    "  tf.keras.layers.Dense(10, activation='softmax')\n",
    "])\n",
    "\n",
    "model.compile(optimizer='adam',\n",
    "              loss='sparse_categorical_crossentropy',\n",
    "              metrics=['accuracy'])"
   ]
  },
  {
   "cell_type": "code",
   "execution_count": 4,
   "id": "d279e844",
   "metadata": {},
   "outputs": [
    {
     "name": "stdout",
     "output_type": "stream",
     "text": [
      "Epoch 1/5\n",
      "1875/1875 [==============================] - 7s 3ms/step - loss: 0.2920 - accuracy: 0.9146\n",
      "Epoch 2/5\n",
      "1875/1875 [==============================] - 6s 3ms/step - loss: 0.1439 - accuracy: 0.9571\n",
      "Epoch 3/5\n",
      "1875/1875 [==============================] - 6s 3ms/step - loss: 0.1082 - accuracy: 0.9670\n",
      "Epoch 4/5\n",
      "1875/1875 [==============================] - 6s 3ms/step - loss: 0.0888 - accuracy: 0.9728\n",
      "Epoch 5/5\n",
      "1875/1875 [==============================] - 6s 3ms/step - loss: 0.0749 - accuracy: 0.9766\n",
      "313/313 - 1s - loss: 0.0768 - accuracy: 0.9756\n"
     ]
    },
    {
     "data": {
      "text/plain": [
       "[0.07680486142635345, 0.975600004196167]"
      ]
     },
     "execution_count": 4,
     "metadata": {},
     "output_type": "execute_result"
    }
   ],
   "source": [
    "model.fit(x_train, y_train, epochs=5)\n",
    "\n",
    "model.evaluate(x_test,  y_test, verbose=2)"
   ]
  },
  {
   "cell_type": "code",
   "execution_count": null,
   "id": "f05d0fbe",
   "metadata": {},
   "outputs": [],
   "source": []
  }
 ],
 "metadata": {
  "kernelspec": {
   "display_name": "Python 3",
   "language": "python",
   "name": "python3"
  },
  "language_info": {
   "codemirror_mode": {
    "name": "ipython",
    "version": 3
   },
   "file_extension": ".py",
   "mimetype": "text/x-python",
   "name": "python",
   "nbconvert_exporter": "python",
   "pygments_lexer": "ipython3",
   "version": "3.8.8"
  }
 },
 "nbformat": 4,
 "nbformat_minor": 5
}
