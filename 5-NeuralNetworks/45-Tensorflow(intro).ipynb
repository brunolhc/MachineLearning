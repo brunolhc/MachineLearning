{
 "cells": [
  {
   "cell_type": "code",
   "execution_count": 1,
   "id": "1f275fe8",
   "metadata": {},
   "outputs": [],
   "source": [
    "import numpy as np\n",
    "import pandas as pd\n",
    "import tensorflow as tf"
   ]
  },
  {
   "cell_type": "markdown",
   "id": "c5d04b87",
   "metadata": {},
   "source": [
    "<h1>Tensor flow 1.0</h1>"
   ]
  },
  {
   "cell_type": "code",
   "execution_count": 36,
   "id": "d016ad90",
   "metadata": {},
   "outputs": [
    {
     "name": "stdout",
     "output_type": "stream",
     "text": [
      "b'Hello, TensorFlow!'\n"
     ]
    }
   ],
   "source": [
    "# Tensor flow 2.0 remove several functions. \n",
    "# Exmaple of tensor 1.0 using tensor 2.0 package\n",
    "tf.compat.v1.disable_eager_execution()\n",
    "\n",
    "hello = tf.constant('Hello, TensorFlow!')\n",
    "\n",
    "sess = tf.compat.v1.Session()\n",
    "\n",
    "print(sess.run(hello))"
   ]
  },
  {
   "cell_type": "code",
   "execution_count": 32,
   "id": "fa17cff0",
   "metadata": {},
   "outputs": [
    {
     "name": "stdout",
     "output_type": "stream",
     "text": [
      "Tensor(\"Mul:0\", shape=(1,), dtype=int32)\n",
      "[30]\n"
     ]
    }
   ],
   "source": [
    "#tensor flow transforms the code to an abstract problem (example in version 1)\n",
    "x1 = tf.constant([5])\n",
    "x2 = tf.constant([6])\n",
    "\n",
    "result = tf.multiply(x1,x2)\n",
    "\n",
    "print(result)\n",
    "\n",
    "# Launch the graph in a session.\n",
    "# sess = tf.compat.v1.Session()\n",
    "\n",
    "with tf.compat.v1.Session() as sess:\n",
    "    output = sess.run(result)\n",
    "    print(output)\n",
    "\n",
    "\n",
    "# Evaluate the tensor `c`.\n",
    "#print(sess.run(result)) # prints 30.0"
   ]
  },
  {
   "cell_type": "code",
   "execution_count": 33,
   "id": "4bf2c95a",
   "metadata": {},
   "outputs": [
    {
     "name": "stdout",
     "output_type": "stream",
     "text": [
      "[ 5 12 21 32]\n"
     ]
    }
   ],
   "source": [
    "# Initialize two constants (example in version 1)\n",
    "x1 = tf.constant([1,2,3,4])\n",
    "x2 = tf.constant([5,6,7,8])\n",
    "\n",
    "# Multiply\n",
    "result = tf.multiply(x1, x2)\n",
    "\n",
    "# Intialize the Session\n",
    "sess = tf.compat.v1.Session()\n",
    "\n",
    "# Print the result\n",
    "print(sess.run(result))\n",
    "\n",
    "# Close the session\n",
    "sess.close()\n"
   ]
  },
  {
   "cell_type": "markdown",
   "id": "8e29ab7f",
   "metadata": {},
   "source": [
    "<h1>Tensor flow 2.0 </h1>"
   ]
  },
  {
   "cell_type": "code",
   "execution_count": null,
   "id": "2987f91a",
   "metadata": {},
   "outputs": [],
   "source": [
    "#In tensor flow 2.0, we can write\n",
    "import tensorflow as tf\n",
    "msg = tf.constant('Hello, TensorFlow!')\n",
    "tf.print(msg)"
   ]
  },
  {
   "cell_type": "code",
   "execution_count": 6,
   "id": "1c2bcd6b",
   "metadata": {},
   "outputs": [
    {
     "name": "stdout",
     "output_type": "stream",
     "text": [
      "tf.Tensor(30, shape=(), dtype=int32)\n",
      "30\n",
      "Hello, TensorFlow!\n"
     ]
    }
   ],
   "source": [
    "#In tensor flow 2.0, we can write\n",
    "x1 = tf.constant([5])\n",
    "x2 = tf.constant([6])\n",
    "\n",
    "result = tf.multiply(x1,x2)\n",
    "\n",
    "#resulto is a tensor\n",
    "print(result)\n",
    "#result as a python value\n",
    "tf.print(result)\n",
    "\n",
    "# Launch the graph in a session.\n",
    "# sess = tf.compat.v1.Session()\n",
    "\n",
    "#with tf.compat.v1.Session() as sess:\n",
    "#    output = sess.run(result)\n",
    "#    print(output)\n",
    "tf.print(msg)"
   ]
  },
  {
   "cell_type": "code",
   "execution_count": null,
   "id": "7bddcc76",
   "metadata": {},
   "outputs": [],
   "source": []
  }
 ],
 "metadata": {
  "kernelspec": {
   "display_name": "Python 3",
   "language": "python",
   "name": "python3"
  },
  "language_info": {
   "codemirror_mode": {
    "name": "ipython",
    "version": 3
   },
   "file_extension": ".py",
   "mimetype": "text/x-python",
   "name": "python",
   "nbconvert_exporter": "python",
   "pygments_lexer": "ipython3",
   "version": "3.8.8"
  }
 },
 "nbformat": 4,
 "nbformat_minor": 5
}
