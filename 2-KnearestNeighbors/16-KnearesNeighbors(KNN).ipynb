{
 "cells": [
  {
   "cell_type": "code",
   "execution_count": 55,
   "id": "e36177bc",
   "metadata": {},
   "outputs": [],
   "source": [
    "import numpy as np\n",
    "from math import sqrt\n",
    "import matplotlib.pyplot as plt\n",
    "from matplotlib import style\n",
    "from collections import Counter\n",
    "import warnings\n",
    "import pandas as pd\n",
    "import random\n",
    "from statistics import mean\n",
    "from sklearn import preprocessing, neighbors\n",
    "from sklearn.model_selection import train_test_split"
   ]
  },
  {
   "cell_type": "markdown",
   "id": "5b9d72a5",
   "metadata": {},
   "source": [
    "The euclidean distance between $x$ and $y$ can be define as:\n",
    "$$d = \\left(\\sum_{i=0}^{n} (y_i - x_i)^2 \\right)^{\\frac{1}{2}}$$\n",
    "\n",
    "where $x_i$ and $y_i$ are components of $x$ and $y$, respectively."
   ]
  },
  {
   "cell_type": "code",
   "execution_count": 2,
   "id": "45c72637",
   "metadata": {},
   "outputs": [],
   "source": [
    "def euclidean_distance(x,y):\n",
    "    x = np.array(x, dtype=np.float64)\n",
    "    y = np.array(y, dtype=np.float64)\n",
    "\n",
    "    return sum((y-x)**2)"
   ]
  },
  {
   "cell_type": "code",
   "execution_count": 50,
   "id": "70beb795",
   "metadata": {},
   "outputs": [],
   "source": [
    "def k_nearest_neighbors(data, predict, k=3):\n",
    "    if len(data) >= k:\n",
    "        warnings.warn('K is set to a value less than total voting groups!')\n",
    "    \n",
    "    #distances is a list of lists with the distance from each group\n",
    "    distances = []\n",
    "    for group in data:\n",
    "        for features in data[group]:\n",
    "            #euclidean distance\n",
    "            e_distance = np.linalg.norm(np.array(features)-np.array(predict))\n",
    "            distances.append([e_distance, group])\n",
    "            \n",
    "    votes = [i[1] for i in sorted(distances)[:k]]\n",
    "    \n",
    "    #counts the moste voted group (of k possibles)\n",
    "    #print(Counter(votes).most_common(1))\n",
    "    vote_result = Counter(votes).most_common(1)[0][0]\n",
    "    \n",
    "    #% of votes of the winner one\n",
    "    confidence = Counter(votes).most_common(1)[0][1]/k\n",
    "            \n",
    "    return vote_result, confidence"
   ]
  },
  {
   "cell_type": "code",
   "execution_count": 4,
   "id": "bba2e369",
   "metadata": {},
   "outputs": [
    {
     "data": {
      "text/plain": [
       "<function matplotlib.pyplot.show(*args, **kw)>"
      ]
     },
     "execution_count": 4,
     "metadata": {},
     "output_type": "execute_result"
    },
    {
     "data": {
      "image/png": "[encoded data removed]",
      "text/plain": [
       "<Figure size 432x288 with 1 Axes>"
      ]
     },
     "metadata": {},
     "output_type": "display_data"
    }
   ],
   "source": [
    "#simple test dataset just for example 'k' and 'r' are groups\n",
    "dataset = {'k':[[1,2],[2,3],[3,1]], 'r':[[6,5],[7,7],[8,6]] }\n",
    "newfeature = [5,7]\n",
    "\n",
    "style.use('fivethirtyeight')\n",
    "#graphic with gruped dots\n",
    "[[plt.scatter(j[0],j[1], s=100, color=i) for j in dataset[i]] for i in dataset]\n",
    "plt.scatter(newfeature[0],newfeature[1])\n",
    "plt.show"
   ]
  },
  {
   "cell_type": "code",
   "execution_count": 5,
   "id": "1a97880f",
   "metadata": {},
   "outputs": [
    {
     "name": "stdout",
     "output_type": "stream",
     "text": [
      "[('r', 3)]\n",
      "r\n"
     ]
    }
   ],
   "source": [
    "result = k_nearest_neighbors(dataset, newfeature)\n",
    "print(result)"
   ]
  },
  {
   "cell_type": "markdown",
   "id": "55466f4c",
   "metadata": {},
   "source": [
    "<div>\n",
    "  <h2>Comparision Between Algorithms</h2>\n",
    "</div>"
   ]
  },
  {
   "cell_type": "code",
   "execution_count": 13,
   "id": "c990d313",
   "metadata": {},
   "outputs": [],
   "source": [
    "#read df\n",
    "df = pd.read_csv('breast-cancer-wisconsin.data')\n",
    "\n",
    "# ? indicates missing data on data set\n",
    "# replace with -99999, most algorithms trets as a outlier\n",
    "df.replace('?', -99999, inplace=True)\n",
    "\n",
    "#remove column id (not contribution to the model)\n",
    "df.drop(['id'], 1, inplace=True)\n",
    "\n",
    "#convert values to float to ensure tha data is numerical type (avoid problems)\n",
    "full_data = df.astype(float).values.tolist()\n",
    "#shuffle (change order) df\n",
    "random.shuffle(full_data)"
   ]
  },
  {
   "cell_type": "markdown",
   "id": "dd9a38aa",
   "metadata": {},
   "source": [
    "<div>\n",
    "    <h3>1. Sklearn</h3>\n",
    "</div>"
   ]
  },
  {
   "cell_type": "code",
   "execution_count": 56,
   "id": "9c4afd1b",
   "metadata": {},
   "outputs": [],
   "source": [
    "def callsklearn(df):\n",
    "    X = np.array(df.drop(['class'],1))\n",
    "    y = np.array(df['class'])\n",
    "\n",
    "    X_train, X_test, y_train, y_test = train_test_split(X, y, test_size=0.2)\n",
    "\n",
    "    clf = neighbors.KNeighborsClassifier()\n",
    "    clf.fit(X_train, y_train)\n",
    "\n",
    "    accuracy = clf.score(X_test, y_test)\n",
    "\n",
    "    return accuracy"
   ]
  },
  {
   "cell_type": "markdown",
   "id": "37c43494",
   "metadata": {},
   "source": [
    "<div>\n",
    "    <h3>2. k_nearest_neighbors</h3>\n",
    "</div>"
   ]
  },
  {
   "cell_type": "code",
   "execution_count": 58,
   "id": "420183c6",
   "metadata": {},
   "outputs": [],
   "source": [
    "def callknn(full_data):\n",
    "    #initiates our dicts to call the function\n",
    "    test_size = 0.2\n",
    "    train_set = {2:[], 4:[]}\n",
    "    test_set = {2:[], 4:[]}\n",
    "\n",
    "    #first p% of the data is for train, the rest for test\n",
    "    train_data = full_data[:-int(test_size*len(full_data))]\n",
    "    test_data = full_data[-int(test_size*len(full_data)):]\n",
    "\n",
    "    #populate sets\n",
    "    for i in train_data:\n",
    "        #last column is the class\n",
    "        train_set[i[-1]].append(i[:-1]) #up to the last column\n",
    "    \n",
    "    for i in test_data:\n",
    "        #last column is the class\n",
    "        test_set[i[-1]].append(i[:-1]) #up to the last column\n",
    "    \n",
    "    # verify if classificated correctely\n",
    "    correct = 0\n",
    "    total = 0\n",
    "\n",
    "    #compare each test element to train_set \n",
    "    for group in test_set:\n",
    "        for data in test_set[group]:\n",
    "            vote, confidence = k_nearest_neighbors(train_set, data, k=5)\n",
    "            if group == vote:\n",
    "                correct+=1\n",
    "            #else:\n",
    "                #incorrects\n",
    "                #print(confidence)\n",
    "            total+=1\n",
    "        \n",
    "    #print('accuracy:', correct/total)\n",
    "\n",
    "    return accuracy"
   ]
  },
  {
   "cell_type": "code",
   "execution_count": 65,
   "id": "8c750d26",
   "metadata": {},
   "outputs": [
    {
     "name": "stdout",
     "output_type": "stream",
     "text": [
      "accuracy knn: 0.9857142857142858\n",
      "accuracy sklearn: 0.9714285714285714\n",
      "accuracy knn: 0.9714285714285714\n",
      "accuracy sklearn: 0.9642857142857143\n",
      "accuracy knn: 0.9642857142857143\n",
      "accuracy sklearn: 0.9714285714285714\n",
      "accuracy knn: 0.9714285714285714\n",
      "accuracy sklearn: 0.9714285714285714\n",
      "accuracy knn: 0.9714285714285714\n",
      "accuracy sklearn: 0.95\n",
      "accuracy knn: 0.95\n",
      "accuracy sklearn: 0.9642857142857143\n",
      "accuracy knn: 0.9642857142857143\n",
      "accuracy sklearn: 0.9785714285714285\n",
      "accuracy knn: 0.9785714285714285\n",
      "accuracy sklearn: 0.9785714285714285\n",
      "accuracy knn: 0.9785714285714285\n",
      "accuracy sklearn: 0.9714285714285714\n",
      "accuracy knn: 0.9714285714285714\n",
      "accuracy sklearn: 0.9571428571428572\n",
      "accuracy knn: 0.9571428571428572\n",
      "accuracy sklearn: 0.9928571428571429\n",
      "accuracy knn: 0.9928571428571429\n",
      "accuracy sklearn: 0.9714285714285714\n",
      "accuracy knn: 0.9714285714285714\n",
      "accuracy sklearn: 0.9857142857142858\n",
      "accuracy knn: 0.9857142857142858\n",
      "accuracy sklearn: 0.9714285714285714\n",
      "accuracy knn: 0.9714285714285714\n",
      "accuracy sklearn: 0.9714285714285714\n",
      "accuracy knn: 0.9714285714285714\n",
      "accuracy sklearn: 0.9857142857142858\n",
      "accuracy knn: 0.9857142857142858\n",
      "accuracy sklearn: 0.9642857142857143\n",
      "accuracy knn: 0.9642857142857143\n",
      "accuracy sklearn: 0.9857142857142858\n",
      "accuracy knn: 0.9857142857142858\n",
      "accuracy sklearn: 0.95\n",
      "accuracy knn: 0.95\n",
      "accuracy sklearn: 0.9714285714285714\n",
      "accuracy knn: 0.9714285714285714\n",
      "accuracy sklearn: 0.9785714285714285\n",
      "accuracy knn: 0.9785714285714285\n",
      "accuracy sklearn: 0.9785714285714285\n",
      "accuracy knn: 0.9785714285714285\n",
      "accuracy sklearn: 0.9714285714285714\n",
      "accuracy knn: 0.9714285714285714\n",
      "accuracy sklearn: 0.9571428571428572\n",
      "accuracy knn: 0.9571428571428572\n",
      "accuracy sklearn: 0.9714285714285714\n",
      "final accuracy knn: 0.972\n",
      "final accuracy sklearn: 0.9714285714285714\n"
     ]
    }
   ],
   "source": [
    "number_of_tests = 25\n",
    "\n",
    "accuracy_knn = []\n",
    "accuracy_sklearn = []\n",
    "for i in range(25):\n",
    "    #full_data_copy = full_data.copy()\n",
    "    random.shuffle(full_data)\n",
    "    \n",
    "    accuracy = callknn(full_data)\n",
    "    print('accuracy knn:', accuracy)\n",
    "    accuracy_knn.append(accuracy)\n",
    "    \n",
    "    #full_data_copy = full_data.copy()\n",
    "    accuracy = callsklearn(df)\n",
    "    print('accuracy sklearn:', accuracy)\n",
    "    accuracy_sklearn.append(accuracy)\n",
    "    \n",
    "print('final accuracy knn:', mean(accuracy_knn))\n",
    "print('final accuracy sklearn:', mean(accuracy_sklearn))\n",
    "    "
   ]
  }
 ],
 "metadata": {
  "kernelspec": {
   "display_name": "Python 3",
   "language": "python",
   "name": "python3"
  },
  "language_info": {
   "codemirror_mode": {
    "name": "ipython",
    "version": 3
   },
   "file_extension": ".py",
   "mimetype": "text/x-python",
   "name": "python",
   "nbconvert_exporter": "python",
   "pygments_lexer": "ipython3",
   "version": "3.8.8"
  }
 },
 "nbformat": 4,
 "nbformat_minor": 5
}
