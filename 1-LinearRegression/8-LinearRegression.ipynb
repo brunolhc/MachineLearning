{
 "cells": [
  {
   "cell_type": "code",
   "execution_count": 2,
   "id": "49c4a001",
   "metadata": {},
   "outputs": [],
   "source": [
    "import numpy as np\n",
    "import math\n",
    "from statistics import mean\n",
    "import matplotlib.pyplot as plt\n",
    "import random"
   ]
  },
  {
   "cell_type": "markdown",
   "id": "de9afc73",
   "metadata": {},
   "source": [
    "To define a linear regression we need the fallowing formulations:\n",
    "\n",
    "$$\n",
    "m= \\frac{\\bar{x}\\bar{y} - \\bar{xy}}{(\\bar{x})^2 - \\bar{x^2}}, \\qquad\n",
    "b = \\bar{y} - m\\bar{x}.\n",
    "$$\n",
    "Then we have \n",
    "\n",
    "$$ y = mx + b. $$"
   ]
  },
  {
   "cell_type": "code",
   "execution_count": 3,
   "id": "71fbc161",
   "metadata": {},
   "outputs": [],
   "source": [
    "def best_fit_slope(X,Y):\n",
    "    m= ( ((mean(X) * mean(Y)) - mean(X*Y)) / \n",
    "            (mean(X)**2 - mean(X**2)) ) \n",
    "    return m"
   ]
  },
  {
   "cell_type": "code",
   "execution_count": 4,
   "id": "ecdd20b0",
   "metadata": {},
   "outputs": [],
   "source": [
    "def best_intercept(X,Y,m):\n",
    "    b = mean(Y) - m*mean(X)\n",
    "    return b"
   ]
  },
  {
   "cell_type": "markdown",
   "id": "38556918",
   "metadata": {},
   "source": [
    "To calculate the accuracy we can use the determination coeficient ($R^2$). The $R^2$ can calculated with the equation below.\n",
    "$$R^2 = 1 - \\sum_{i=1}^n\\frac{(Y_i)^2-(\\hat{Y}_i)^2}{(Y_i-\\bar{Y})^2}.$$\n",
    "\n",
    "Where $Y$ are the real results, $\\hat{Y}$ are the predicted results and $\\bar{Y}$ is the mean value of the results."
   ]
  },
  {
   "cell_type": "code",
   "execution_count": 5,
   "id": "cf69069c",
   "metadata": {},
   "outputs": [],
   "source": [
    "def coef_r(Y, Y_pred):\n",
    "    r = 1 - (sum(Y**2) - sum(Y_pred**2)) / sum((Y - mean(Y))**2)\n",
    "    return r"
   ]
  },
  {
   "cell_type": "code",
   "execution_count": 6,
   "id": "a4bbef80",
   "metadata": {},
   "outputs": [],
   "source": [
    "# n - number of points\n",
    "# variance - dispersion of the data\n",
    "# usestep - data is approximately spaced\n",
    "# step - step between points\n",
    "# steptype - type of step (positive or negative)\n",
    "# returns the sets X and Y\n",
    "\n",
    "def create_dataset(n, variance, usestep=False, step=2, steptype='positive'):\n",
    "    X = [i for i in range(n)]\n",
    "    \n",
    "    val = 1 #starting value\n",
    "    Y = []\n",
    "    for i in range(n):\n",
    "        y = val + random.randrange(-variance,variance)\n",
    "        Y.append(y)\n",
    "        \n",
    "        if usestep and steptype=='positive':\n",
    "            val += step\n",
    "        elif usestep and steptype=='negative':\n",
    "            val -= step\n",
    "       \n",
    "    return (np.array(X, dtype=np.float64), np.array(Y, dtype=np.float64))"
   ]
  },
  {
   "cell_type": "code",
   "execution_count": 31,
   "id": "88289bb4",
   "metadata": {},
   "outputs": [],
   "source": [
    "def lin_regression(X,Y):\n",
    "    #finding parameters\n",
    "    m = best_fit_slope(X,Y)\n",
    "    b = best_intercept(X,Y,m)\n",
    "\n",
    "    #defining regression line\n",
    "    regression_line = [(m*x)+b for x in X]\n",
    "\n",
    "    Y_pred = np.array([m*x+b for x in X])\n",
    "    accuracy = coef_r(Y, Y_pred)\n",
    "    print('accuracy: %f' % (accuracy))\n",
    "\n",
    "    plt.style.use('seaborn')\n",
    "    plt.scatter(X,Y, color='red')\n",
    "    plt.plot(X, regression_line)\n",
    "    plt.show()\n",
    "    \n",
    "    return (round(m,2), round(b,2), round(accuracy,4))"
   ]
  },
  {
   "cell_type": "code",
   "execution_count": 32,
   "id": "38a79711",
   "metadata": {},
   "outputs": [
    {
     "name": "stdout",
     "output_type": "stream",
     "text": [
      "accuracy: 0.584416\n"
     ]
    },
    {
     "data": {
      "image/png": "[encoded data removed]",
      "text/plain": [
       "<Figure size 576x396 with 1 Axes>"
      ]
     },
     "metadata": {},
     "output_type": "display_data"
    },
    {
     "data": {
      "text/plain": [
       "(0.43, 4.0, 0.5844)"
      ]
     },
     "execution_count": 32,
     "metadata": {},
     "output_type": "execute_result"
    }
   ],
   "source": [
    "# very simple test data\n",
    "xs = np.array([1,2,3,4,5,6], dtype=np.float64)\n",
    "ys = np.array([5,4,6,5,6,7], dtype=np.float64)\n",
    "\n",
    "lin_regression(xs,ys)"
   ]
  },
  {
   "cell_type": "code",
   "execution_count": 25,
   "id": "0a693c34",
   "metadata": {},
   "outputs": [
    {
     "name": "stdout",
     "output_type": "stream",
     "text": [
      "accuracy: 0.504475\n"
     ]
    },
    {
     "data": {
      "image/png": "[encoded data removed]",
      "text/plain": [
       "<Figure size 576x396 with 1 Axes>"
      ]
     },
     "metadata": {},
     "output_type": "display_data"
    },
    {
     "data": {
      "text/plain": [
       "(1.8389305816135095, 6.065853658536561, 0.5044751211225362)"
      ]
     },
     "execution_count": 25,
     "metadata": {},
     "output_type": "execute_result"
    }
   ],
   "source": [
    "X, Y = create_dataset(40, 40, usestep=True, step=2, steptype='positive')\n",
    "lin_regression(X,Y)"
   ]
  },
  {
   "cell_type": "code",
   "execution_count": 26,
   "id": "522b4b75",
   "metadata": {},
   "outputs": [
    {
     "name": "stdout",
     "output_type": "stream",
     "text": [
      "accuracy: 0.943009\n"
     ]
    },
    {
     "data": {
      "image/png": "[encoded data removed]",
      "text/plain": [
       "<Figure size 576x396 with 1 Axes>"
      ]
     },
     "metadata": {},
     "output_type": "display_data"
    },
    {
     "data": {
      "text/plain": [
       "(1.9619136960600372, 0.34268292682927637, 0.9430092261164844)"
      ]
     },
     "execution_count": 26,
     "metadata": {},
     "output_type": "execute_result"
    }
   ],
   "source": [
    "X, Y = create_dataset(40, 10, usestep=True, step=2, steptype='positive')\n",
    "lin_regression(X,Y)"
   ]
  },
  {
   "cell_type": "code",
   "execution_count": null,
   "id": "7a7a831e",
   "metadata": {},
   "outputs": [],
   "source": []
  }
 ],
 "metadata": {
  "kernelspec": {
   "display_name": "Python 3",
   "language": "python",
   "name": "python3"
  },
  "language_info": {
   "codemirror_mode": {
    "name": "ipython",
    "version": 3
   },
   "file_extension": ".py",
   "mimetype": "text/x-python",
   "name": "python",
   "nbconvert_exporter": "python",
   "pygments_lexer": "ipython3",
   "version": "3.8.8"
  }
 },
 "nbformat": 4,
 "nbformat_minor": 5
}
